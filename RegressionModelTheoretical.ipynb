{
 "cells": [
  {
   "cell_type": "code",
   "execution_count": 3,
   "metadata": {},
   "outputs": [],
   "source": [
    "import pandas as pd\n",
    "import numpy as np\n",
    "import matplotlib.pyplot as plt\n",
    "from sklearn.linear_model import LinearRegression\n",
    "from sklearn.metrics import mean_squared_error, r2_score\n",
    "import statsmodels.api as sm\n",
    "data = pd.read_csv(\"Regression_Dataset.csv\")"
   ]
  },
  {
   "cell_type": "code",
   "execution_count": 6,
   "metadata": {},
   "outputs": [],
   "source": [
    "#x=Annual Income - independent var 65 and above\n",
    "#y=Spending Score - dependent var 60 and above\n",
    "\n",
    "x=np.array([69,70,71,71,71,72,73,73,74,75,76,77,77,78,78,78,78,78,78,79,81,85,86,87,87,87,88,88,93,97,98,99,101,103,103,113,120,126,137])\n",
    "y=np.array([91,77,95,75,75,71,88,73,72,93,87,97,74,90,88,76,89,78,73,83,93,75,95,63,75,92,86,69,90,86,88,97,68,85,69,91,79,74,83,])\n",
    "n=np.size(y)"
   ]
  },
  {
   "cell_type": "code",
   "execution_count": 7,
   "metadata": {},
   "outputs": [
    {
     "name": "stdout",
     "output_type": "stream",
     "text": [
      "Slope b1 is  -0.022517725101178047\n",
      "Intercept b0 is  84.07685441580708\n"
     ]
    },
    {
     "data": {
      "text/plain": [
       "Text(0, 0.5, 'Independent variable Y')"
      ]
     },
     "execution_count": 7,
     "metadata": {},
     "output_type": "execute_result"
    },
    {
     "data": {
      "image/png": "[encoded data removed]",
      "text/plain": [
       "<Figure size 432x288 with 1 Axes>"
      ]
     },
     "metadata": {
      "needs_background": "light"
     },
     "output_type": "display_data"
    }
   ],
   "source": [
    "x_mean=np.mean(x)\n",
    "y_mean=np.mean(y)\n",
    "x_mean,y_mean\n",
    "\n",
    "Sxy=np.sum(x*y) - n*x_mean*y_mean\n",
    "Sxx=np.sum(x*x) - n*x_mean*x_mean\n",
    "\n",
    "b1=Sxy/Sxx\n",
    "b0=y_mean-b1*x_mean\n",
    "print('Slope b1 is ',b1)\n",
    "print('Intercept b0 is ',b0)\n",
    "\n",
    "plt.scatter(x,y)\n",
    "plt.xlabel('Independent variable X')\n",
    "plt.ylabel('Independent variable Y')"
   ]
  },
  {
   "cell_type": "code",
   "execution_count": 10,
   "metadata": {},
   "outputs": [
    {
     "name": "stdout",
     "output_type": "stream",
     "text": [
      "Equation of line is y = -0.022517725101178047 x + 84.07685441580708\n"
     ]
    }
   ],
   "source": [
    "print(\"Equation of line is y =\",b1,\"x +\",b0)"
   ]
  },
  {
   "cell_type": "code",
   "execution_count": 11,
   "metadata": {},
   "outputs": [
    {
     "data": {
      "text/plain": [
       "Text(0, 0.5, 'y')"
      ]
     },
     "execution_count": 11,
     "metadata": {},
     "output_type": "execute_result"
    },
    {
     "data": {
      "image/png": "[encoded data removed]",
      "text/plain": [
       "<Figure size 432x288 with 1 Axes>"
      ]
     },
     "metadata": {
      "needs_background": "light"
     },
     "output_type": "display_data"
    }
   ],
   "source": [
    "y_pred = b1*x + b0\n",
    "\n",
    "plt.scatter(x,y,color='red')\n",
    "plt.plot(x,y_pred,color='green')\n",
    "plt.xlabel('x')\n",
    "plt.ylabel('y')"
   ]
  },
  {
   "cell_type": "code",
   "execution_count": 12,
   "metadata": {},
   "outputs": [
    {
     "name": "stdout",
     "output_type": "stream",
     "text": [
      "squared error is 3327.231861566706\n",
      "mean squared error is 85.31363747606939\n",
      "root mean square error is 9.23653817596557\n",
      "R square is 0.0015385835774954781\n"
     ]
    }
   ],
   "source": [
    "error = y - y_pred\n",
    "se = np.sum(error**2)\n",
    "print('squared error is', se)\n",
    "  \n",
    "mse = se/n \n",
    "print('mean squared error is', mse)\n",
    "  \n",
    "rmse = np.sqrt(mse)\n",
    "print('root mean square error is', rmse)\n",
    "  \n",
    "SSt = np.sum((y - y_mean)**2)\n",
    "R2 = 1- (se/SSt)\n",
    "print('R square is', R2)"
   ]
  },
  {
   "cell_type": "code",
   "execution_count": null,
   "metadata": {},
   "outputs": [],
   "source": []
  }
 ],
 "metadata": {
  "kernelspec": {
   "display_name": "Python 3",
   "language": "python",
   "name": "python3"
  },
  "language_info": {
   "codemirror_mode": {
    "name": "ipython",
    "version": 3
   },
   "file_extension": ".py",
   "mimetype": "text/x-python",
   "name": "python",
   "nbconvert_exporter": "python",
   "pygments_lexer": "ipython3",
   "version": "3.8.5"
  }
 },
 "nbformat": 4,
 "nbformat_minor": 4
}
